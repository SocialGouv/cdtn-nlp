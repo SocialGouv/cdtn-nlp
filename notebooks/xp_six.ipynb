{
 "cells": [
  {
   "cell_type": "code",
   "execution_count": 2,
   "id": "d8c77558-a2f6-4098-8bd8-a31b84e7e62c",
   "metadata": {},
   "outputs": [
    {
     "name": "stderr",
     "output_type": "stream",
     "text": [
      "Since the GPL-licensed package `unidecode` is not installed, using Python's `unicodedata` package which yields worse results.\n"
     ]
    }
   ],
   "source": [
    "import pandas as pd\n",
    "from cleantext import clean\n",
    "import re\n",
    "import torch.nn.functional as F\n",
    "\n",
    "\n",
    "import torch\n",
    "from torch import Tensor\n",
    "from transformers import AutoTokenizer, AutoModel\n",
    "from pandas import read_excel, read_json\n",
    "import sys\n",
    "import time\n",
    "import math"
   ]
  },
  {
   "cell_type": "code",
   "execution_count": 6,
   "id": "e84d9c9c-b934-4438-8e20-1467381b7326",
   "metadata": {},
   "outputs": [],
   "source": [
    "dataset_path = \"../datasets/\""
   ]
  },
  {
   "cell_type": "code",
   "execution_count": null,
   "id": "8f2d07b8-e857-49fa-8ee5-84c7cea2c797",
   "metadata": {},
   "outputs": [],
   "source": []
  },
  {
   "cell_type": "code",
   "execution_count": 3,
   "id": "c961f941-7cb7-4685-ad99-165e3f8058ea",
   "metadata": {},
   "outputs": [],
   "source": [
    "window_size = 310\n",
    "slide = 70"
   ]
  },
  {
   "cell_type": "code",
   "execution_count": 4,
   "id": "ef3fd591-0c64-427c-9274-ae0746dd0e03",
   "metadata": {},
   "outputs": [],
   "source": [
    "def make_windows(content, w_size, slide):\n",
    "    if slide > w_size :\n",
    "        raise Exception()\n",
    "    tokens = content.split(\" \")\n",
    "    l = len(tokens)    \n",
    "       \n",
    "    n = math.ceil(l / (w_size-slide))        \n",
    "\n",
    "    if n==1 :\n",
    "        return [content]\n",
    "    else :\n",
    "        windows = []\n",
    "        for i in range(n) :            \n",
    "            x = i*slide\n",
    "            if x < l :\n",
    "                y = x + w_size\n",
    "                w = tokens[x:y]\n",
    "                windows.append(\" \".join(w))\n",
    "        \n",
    "        return windows"
   ]
  },
  {
   "cell_type": "code",
   "execution_count": 7,
   "id": "cbb54da1-fb2f-45f8-b808-0c02a1de7bf1",
   "metadata": {},
   "outputs": [],
   "source": [
    "fiches = pd.read_csv(dataset_path+\"xp-documents-fiches (2).csv\")\n",
    "\n",
    "fiches[\"cleaned_text\"] = fiches[\"text\"].apply(lambda t : clean(re.sub(\"\\s+\", \" \", str(t)), to_ascii=False))\n",
    "fiches[\"tokens\"] = fiches[\"cleaned_text\"].apply(lambda t : len(str(t).split(\" \")))\n",
    "\n",
    "fiches = fiches[fiches[\"tokens\"]<3000]\n",
    "fiches[\"windows\"] = fiches[\"cleaned_text\"].apply(lambda t : make_windows(t, window_size, slide))\n",
    "fiches.drop(columns=[\"cleaned_text\", \"text\"], inplace=True)\n",
    "fiches = fiches.explode(\"windows\", ignore_index=True)\n",
    "fiches.rename(columns={\"windows\": \"text\"}, inplace=True)\n",
    "fiches[\"cdtnId-fiches\"] = fiches[\"cdtnId\"]\n",
    "fiches[\"cdtnId\"] = fiches[\"cdtnId\"].apply(lambda x : x.split(\"-\")[0])"
   ]
  },
  {
   "cell_type": "code",
   "execution_count": 8,
   "id": "efaca9ce-9daf-44bf-9631-78385268a089",
   "metadata": {},
   "outputs": [],
   "source": [
    "contribs = pd.read_csv(dataset_path + \"xp-documents-contribs (1).csv\")"
   ]
  },
  {
   "cell_type": "code",
   "execution_count": 9,
   "id": "e266f473-0f1a-42e2-960f-7a9b4e54077f",
   "metadata": {},
   "outputs": [],
   "source": [
    "contribs.drop_duplicates(subset=[\"answers.generic.text\"], inplace=True)\n",
    "contribs[\"cleaned_text\"] = contribs[\"answers.generic.text\"].apply(lambda t : clean(re.sub(\"\\s+\", \" \", str(t)), to_ascii=False))\n",
    "contribs[\"tokens\"] = contribs[\"cleaned_text\"].apply(lambda t : len(str(t).split(\" \")))\n",
    "contribs[\"windows\"] = contribs[\"cleaned_text\"].apply(lambda t : make_windows(t, window_size, slide))\n",
    "contribs.drop(columns=[\"cleaned_text\",\"answers.generic.text\",\"text\"], inplace=True)\n",
    "contribs = contribs.explode(\"windows\", ignore_index=True)\n",
    "contribs.rename(columns={\"windows\": \"text\"}, inplace=True)"
   ]
  },
  {
   "cell_type": "code",
   "execution_count": 10,
   "id": "fc1662ae-9545-423c-beb8-71d804b42670",
   "metadata": {},
   "outputs": [],
   "source": [
    "contribs[\"slug\"] = contribs[\"slug\"].apply(lambda s: \"-\".join(s.split(\"-\")[1:]))"
   ]
  },
  {
   "cell_type": "code",
   "execution_count": null,
   "id": "9a4b3c50-0858-47ee-b0c3-7af1168ae660",
   "metadata": {},
   "outputs": [],
   "source": []
  },
  {
   "cell_type": "code",
   "execution_count": 11,
   "id": "4c1da820-10ff-4956-a0b3-9ca6c6525e85",
   "metadata": {},
   "outputs": [],
   "source": [
    "contribs_tensor = torch.load(dataset_path + \"contribs_tensor3.pt\")\n",
    "fiches_tensor = torch.load(dataset_path + \"fiches_tensor3.pt\")\n",
    "tensor_docs = torch.vstack([fiches_tensor, contribs_tensor])"
   ]
  },
  {
   "cell_type": "code",
   "execution_count": null,
   "id": "22333cd2-a9ad-4f02-84bd-d934c01576c7",
   "metadata": {},
   "outputs": [],
   "source": []
  },
  {
   "cell_type": "code",
   "execution_count": 12,
   "id": "eaeddd96-4c48-4ee7-8e92-dd4d593cec69",
   "metadata": {},
   "outputs": [
    {
     "data": {
      "text/plain": [
       "(4795, 9)"
      ]
     },
     "execution_count": 12,
     "metadata": {},
     "output_type": "execute_result"
    }
   ],
   "source": [
    "passages_set = pd.concat([fiches, contribs]).reset_index()\n",
    "passages_set.shape"
   ]
  },
  {
   "cell_type": "code",
   "execution_count": null,
   "id": "26aa8eee-d635-45c9-ad50-96cf92d15780",
   "metadata": {},
   "outputs": [],
   "source": []
  },
  {
   "cell_type": "code",
   "execution_count": 13,
   "id": "e6e51463-fe64-42ce-ae2c-000b3d71705e",
   "metadata": {},
   "outputs": [],
   "source": [
    "def average_pool(last_hidden_states: Tensor,\n",
    "                 attention_mask: Tensor) -> Tensor:\n",
    "    last_hidden = last_hidden_states.masked_fill(~attention_mask[..., None].bool(), 0.0)\n",
    "    return last_hidden.sum(dim=1) / attention_mask.sum(dim=1)[..., None]\n",
    "\n",
    "\n",
    "tokenizer = AutoTokenizer.from_pretrained('intfloat/multilingual-e5-base')\n",
    "model = AutoModel.from_pretrained('intfloat/multilingual-e5-base')"
   ]
  },
  {
   "cell_type": "code",
   "execution_count": 14,
   "id": "b01079e6-45bc-43d0-a420-f48742ba1133",
   "metadata": {},
   "outputs": [
    {
     "data": {
      "text/html": [
       "<div>\n",
       "<style scoped>\n",
       "    .dataframe tbody tr th:only-of-type {\n",
       "        vertical-align: middle;\n",
       "    }\n",
       "\n",
       "    .dataframe tbody tr th {\n",
       "        vertical-align: top;\n",
       "    }\n",
       "\n",
       "    .dataframe thead th {\n",
       "        text-align: right;\n",
       "    }\n",
       "</style>\n",
       "<table border=\"1\" class=\"dataframe\">\n",
       "  <thead>\n",
       "    <tr style=\"text-align: right;\">\n",
       "      <th></th>\n",
       "      <th>index</th>\n",
       "      <th>source</th>\n",
       "      <th>cdtnId</th>\n",
       "      <th>title</th>\n",
       "      <th>slug</th>\n",
       "      <th>answers.generic.text</th>\n",
       "      <th>tokens</th>\n",
       "      <th>text</th>\n",
       "      <th>cdtnId-fiches</th>\n",
       "    </tr>\n",
       "  </thead>\n",
       "  <tbody>\n",
       "    <tr>\n",
       "      <th>3568</th>\n",
       "      <td>3568</td>\n",
       "      <td>fiches_service_public</td>\n",
       "      <td>6e888b3f6e</td>\n",
       "      <td>Arrêt maladie et congés payés annuels</td>\n",
       "      <td>arret-maladie-et-conges-payes-annuels</td>\n",
       "      <td>-</td>\n",
       "      <td>741</td>\n",
       "      <td>que se passe-t-il si vous tombez malade pendan...</td>\n",
       "      <td>6e888b3f6e</td>\n",
       "    </tr>\n",
       "    <tr>\n",
       "      <th>3569</th>\n",
       "      <td>3569</td>\n",
       "      <td>fiches_service_public</td>\n",
       "      <td>6e888b3f6e</td>\n",
       "      <td>Arrêt maladie et congés payés annuels</td>\n",
       "      <td>arret-maladie-et-conges-payes-annuels</td>\n",
       "      <td>-</td>\n",
       "      <td>741</td>\n",
       "      <td>de congés restants si la convention collective...</td>\n",
       "      <td>6e888b3f6e</td>\n",
       "    </tr>\n",
       "    <tr>\n",
       "      <th>3570</th>\n",
       "      <td>3570</td>\n",
       "      <td>fiches_service_public</td>\n",
       "      <td>6e888b3f6e</td>\n",
       "      <td>Arrêt maladie et congés payés annuels</td>\n",
       "      <td>arret-maladie-et-conges-payes-annuels</td>\n",
       "      <td>-</td>\n",
       "      <td>741</td>\n",
       "      <td>congés si vous êtes malade (maladie non-profes...</td>\n",
       "      <td>6e888b3f6e</td>\n",
       "    </tr>\n",
       "    <tr>\n",
       "      <th>3571</th>\n",
       "      <td>3571</td>\n",
       "      <td>fiches_service_public</td>\n",
       "      <td>6e888b3f6e</td>\n",
       "      <td>Arrêt maladie et congés payés annuels</td>\n",
       "      <td>arret-maladie-et-conges-payes-annuels</td>\n",
       "      <td>-</td>\n",
       "      <td>741</td>\n",
       "      <td>prise de congés en cours dans l'entreprise ou ...</td>\n",
       "      <td>6e888b3f6e</td>\n",
       "    </tr>\n",
       "  </tbody>\n",
       "</table>\n",
       "</div>"
      ],
      "text/plain": [
       "      index                 source      cdtnId  \\\n",
       "3568   3568  fiches_service_public  6e888b3f6e   \n",
       "3569   3569  fiches_service_public  6e888b3f6e   \n",
       "3570   3570  fiches_service_public  6e888b3f6e   \n",
       "3571   3571  fiches_service_public  6e888b3f6e   \n",
       "\n",
       "                                      title  \\\n",
       "3568  Arrêt maladie et congés payés annuels   \n",
       "3569  Arrêt maladie et congés payés annuels   \n",
       "3570  Arrêt maladie et congés payés annuels   \n",
       "3571  Arrêt maladie et congés payés annuels   \n",
       "\n",
       "                                       slug answers.generic.text  tokens  \\\n",
       "3568  arret-maladie-et-conges-payes-annuels                    -     741   \n",
       "3569  arret-maladie-et-conges-payes-annuels                    -     741   \n",
       "3570  arret-maladie-et-conges-payes-annuels                    -     741   \n",
       "3571  arret-maladie-et-conges-payes-annuels                    -     741   \n",
       "\n",
       "                                                   text cdtnId-fiches  \n",
       "3568  que se passe-t-il si vous tombez malade pendan...    6e888b3f6e  \n",
       "3569  de congés restants si la convention collective...    6e888b3f6e  \n",
       "3570  congés si vous êtes malade (maladie non-profes...    6e888b3f6e  \n",
       "3571  prise de congés en cours dans l'entreprise ou ...    6e888b3f6e  "
      ]
     },
     "execution_count": 14,
     "metadata": {},
     "output_type": "execute_result"
    }
   ],
   "source": [
    "# fiche-service-public/un-salarie-peut-il-reporter-des-jours-de-conges-payes-pour-cause-de-maladie\t\n",
    "doc1 = \"6e888b3f6e\"\n",
    "\n",
    "# contribution/si-le-salarie-est-malade-pendant-ses-conges-quelles-en-sont-les-consequences\n",
    "doc2 = \"1100b865de\"\n",
    "\n",
    "passages_set[passages_set[\"cdtnId\"] == doc1]"
   ]
  },
  {
   "cell_type": "code",
   "execution_count": 15,
   "id": "d559b13f-ec45-4081-89bd-10f32b879760",
   "metadata": {},
   "outputs": [
    {
     "data": {
      "text/html": [
       "<div>\n",
       "<style scoped>\n",
       "    .dataframe tbody tr th:only-of-type {\n",
       "        vertical-align: middle;\n",
       "    }\n",
       "\n",
       "    .dataframe tbody tr th {\n",
       "        vertical-align: top;\n",
       "    }\n",
       "\n",
       "    .dataframe thead th {\n",
       "        text-align: right;\n",
       "    }\n",
       "</style>\n",
       "<table border=\"1\" class=\"dataframe\">\n",
       "  <thead>\n",
       "    <tr style=\"text-align: right;\">\n",
       "      <th></th>\n",
       "      <th>index</th>\n",
       "      <th>source</th>\n",
       "      <th>cdtnId</th>\n",
       "      <th>title</th>\n",
       "      <th>slug</th>\n",
       "      <th>answers.generic.text</th>\n",
       "      <th>tokens</th>\n",
       "      <th>text</th>\n",
       "      <th>cdtnId-fiches</th>\n",
       "    </tr>\n",
       "  </thead>\n",
       "  <tbody>\n",
       "    <tr>\n",
       "      <th>4751</th>\n",
       "      <td>23</td>\n",
       "      <td>contributions</td>\n",
       "      <td>1100b865de</td>\n",
       "      <td>Si le salarié est malade pendant ses congés, q...</td>\n",
       "      <td>si-le-salarie-est-malade-pendant-ses-conges-qu...</td>\n",
       "      <td>NaN</td>\n",
       "      <td>261</td>\n",
       "      <td>le salarié est malade avant son départ en cong...</td>\n",
       "      <td>NaN</td>\n",
       "    </tr>\n",
       "    <tr>\n",
       "      <th>4752</th>\n",
       "      <td>24</td>\n",
       "      <td>contributions</td>\n",
       "      <td>1100b865de</td>\n",
       "      <td>Si le salarié est malade pendant ses congés, q...</td>\n",
       "      <td>si-le-salarie-est-malade-pendant-ses-conges-qu...</td>\n",
       "      <td>NaN</td>\n",
       "      <td>261</td>\n",
       "      <td>d'un arrêt maladie. le salarié perçoit une ind...</td>\n",
       "      <td>NaN</td>\n",
       "    </tr>\n",
       "  </tbody>\n",
       "</table>\n",
       "</div>"
      ],
      "text/plain": [
       "      index         source      cdtnId  \\\n",
       "4751     23  contributions  1100b865de   \n",
       "4752     24  contributions  1100b865de   \n",
       "\n",
       "                                                  title  \\\n",
       "4751  Si le salarié est malade pendant ses congés, q...   \n",
       "4752  Si le salarié est malade pendant ses congés, q...   \n",
       "\n",
       "                                                   slug answers.generic.text  \\\n",
       "4751  si-le-salarie-est-malade-pendant-ses-conges-qu...                  NaN   \n",
       "4752  si-le-salarie-est-malade-pendant-ses-conges-qu...                  NaN   \n",
       "\n",
       "      tokens                                               text cdtnId-fiches  \n",
       "4751     261  le salarié est malade avant son départ en cong...           NaN  \n",
       "4752     261  d'un arrêt maladie. le salarié perçoit une ind...           NaN  "
      ]
     },
     "execution_count": 15,
     "metadata": {},
     "output_type": "execute_result"
    }
   ],
   "source": [
    "passages_set[passages_set[\"cdtnId\"] == doc2]"
   ]
  },
  {
   "cell_type": "code",
   "execution_count": 16,
   "id": "0fe4ed16-fb26-4753-bb68-6cc367d2929c",
   "metadata": {
    "scrolled": true
   },
   "outputs": [
    {
     "ename": "NameError",
     "evalue": "name 'search_id' is not defined",
     "output_type": "error",
     "traceback": [
      "\u001b[0;31m---------------------------------------------------------------------------\u001b[0m",
      "\u001b[0;31mNameError\u001b[0m                                 Traceback (most recent call last)",
      "Cell \u001b[0;32mIn[16], line 1\u001b[0m\n\u001b[0;32m----> 1\u001b[0m doc_passages \u001b[38;5;241m=\u001b[39m passages_set[passages_set[\u001b[38;5;124m\"\u001b[39m\u001b[38;5;124mcdtnId\u001b[39m\u001b[38;5;124m\"\u001b[39m] \u001b[38;5;241m==\u001b[39m \u001b[43msearch_id\u001b[49m]\n\u001b[1;32m      2\u001b[0m indices \u001b[38;5;241m=\u001b[39m doc_passages\u001b[38;5;241m.\u001b[39mindex\n\u001b[1;32m      3\u001b[0m tensor_docs[indices]\n",
      "\u001b[0;31mNameError\u001b[0m: name 'search_id' is not defined"
     ]
    }
   ],
   "source": [
    "doc_passages = passages_set[passages_set[\"cdtnId\"] == search_id]\n",
    "indices = doc_passages.index\n",
    "tensor_docs[indices]\n",
    "retrieval_scores = (tensor_docs[indices] @ tensor_docs.T) * 100\n",
    "retrieval_scores.size()\n",
    "topk = torch.topk(retrieval_scores, 100)\n"
   ]
  },
  {
   "cell_type": "code",
   "execution_count": null,
   "id": "d97469e8-9fd3-44d1-8897-23924eadf0a5",
   "metadata": {},
   "outputs": [],
   "source": []
  },
  {
   "cell_type": "code",
   "execution_count": 274,
   "id": "df64bf29-1967-4567-813e-7735aaed5557",
   "metadata": {},
   "outputs": [
    {
     "data": {
      "text/plain": [
       "torch.Size([3, 100])"
      ]
     },
     "execution_count": 274,
     "metadata": {},
     "output_type": "execute_result"
    }
   ],
   "source": [
    "topk.indices.size()"
   ]
  },
  {
   "cell_type": "code",
   "execution_count": 275,
   "id": "d43af43d-c3ba-4773-8ca4-6d89eca4012f",
   "metadata": {
    "scrolled": true
   },
   "outputs": [],
   "source": [
    "top_indices = topk.indices.tolist()"
   ]
  },
  {
   "cell_type": "code",
   "execution_count": 282,
   "id": "2fe94d30-2f89-4d81-b0cf-87367189c096",
   "metadata": {},
   "outputs": [
    {
     "data": {
      "text/plain": [
       "\"l'employeur apporte la justification de la perturbation du fonctionnement de l'entreprise . il justifie également de la nécessité de remplacer définitivement le salarié absent par un cdi . indemnités si le salarié en remplit les conditions, il a droit aux indemnités suivantes : indemnité légale ou conventionnelle de licenciement indemnité compensatrice de congés payés indemnité compensatrice de préavis à noter des dispositions conventionnelles peuvent prévoir des conditions d'indemnisation plus favorables. motif disciplinaire conditions le salarié peut être licencié s'il a commis une faute . elle peut être la conséquence de l'une des situations suivantes : non-respect par le salarié malade de ses obligations (par exemple, l'envoi tardif d'un arrêt de travail malgré les mises en demeure de justifier de l'absence) faute commise avant l'arrêt maladie procédure disciplinaire engagée avant l'arrêt maladie procédure l'employeur doit respecter la procédure de licenciement pour motif personnel . indemnités cas général si le salarié en remplit les conditions, il a droit aux indemnités suivantes : indemnité légale ou conventionnelle de licenciement indemnité compensatrice de congés payés indemnité compensatrice de préavis faute grave ou lourde si le salarié en remplit les conditions, il a droit à l'indemnité compensatrice de congés payés . motif économique conditions le salarié malade peut être licencié pour motif économique , dans les conditions habituelles. procédure l'employeur doit respecter la procédure de licenciement pour motif économique . indemnités si le salarié en remplit les conditions, il a droit aux indemnités suivantes : indemnité légale ou conventionnelle de licenciement indemnité compensatrice de congés payés indemnité compensatrice de préavis inaptitude du salarié conditions à la fin de l'arrêt de travail , en fonction des conséquences de la maladie ou de l'accident de travail sur l'état de santé du salarié, le médecin du travail peut le déclarer inapte. l'employeur peut licencier le salarié pour : inaptitude d'origine non professionnelle, c'est-à-dire à la suite d'un arrêt\""
      ]
     },
     "execution_count": 282,
     "metadata": {},
     "output_type": "execute_result"
    }
   ],
   "source": [
    "passages_set.loc[top_indices[0][:10]].text.iloc[doc_passages.shape[0]]"
   ]
  },
  {
   "cell_type": "code",
   "execution_count": 281,
   "id": "4e3e2492-a99a-400b-b45b-c131eb17439e",
   "metadata": {},
   "outputs": [
    {
     "data": {
      "text/plain": [
       "\"la clause de non-concurrence est une clause insérée dans le contrat de travail. elle vise à limiter la liberté d'un salarié d'exercer, après la rupture de son contrat, des fonctions équivalentes chez un concurrent ou à son propre compte. pour être valable, la clause doit respecter certains critères. critères de validité la clause de non-concurrence n'est pas définie par la loi , mais a été précisée par des décisions de justice, c'est-à-dire par l a jurisprudence . pour qu'elle soit applicable, la clause de non-concurrence doit répondre à certains critères cumulatifs définis qui conditionnent sa validité. la clause doit être écrite dans le contrat de travail (ou prévue dans la convention collective ). la clause est applicable uniquement si elle veille à protéger les intérêts de l'entreprise (quand le salarié est en contact direct avec la clientèle par exemple). elle ne doit pas empêcher le salarié de trouver un emploi ailleurs. la clause de non-concurrence s'applique : dans le temps (sa durée ne doit pas être excessive) dans l'espace (une zone géographique doit être prévue) à une activité spécifiquement visée (coiffeur par exemple) si une contrepartie financière est prévue la contrepartie financière (ou indemnité compensatrice) est versée par l'employeur au salarié qui s'engage à ne pas faire concurrence à son ancien employeur à la fin de son contrat de travail. si le salarié ne respecte plus la clause, l'employeur peut interrompre le versement de la contre-partie. en cas de non-respect d'un de ces critères, la clause de non-concurrence n'est pas valable et ouvre droit au paiement de dommages et intérêts au bénéfice du salarié. application de la clause mise en œuvre la clause de non-concurrence s'applique : soit à la date effective de la fin du contrat (à l'issue de la période de préavis) soit lors du départ du salarié (en cas de dispense de préavis) la contrepartie financière est\""
      ]
     },
     "execution_count": 281,
     "metadata": {},
     "output_type": "execute_result"
    }
   ],
   "source": [
    "doc_passages.text.iloc[0]"
   ]
  },
  {
   "cell_type": "code",
   "execution_count": null,
   "id": "1c729c69-4cf4-490d-a747-8eee97dc0f86",
   "metadata": {},
   "outputs": [],
   "source": []
  },
  {
   "cell_type": "code",
   "execution_count": null,
   "id": "8847b6c2-4aaa-459e-8d49-31058333e51a",
   "metadata": {},
   "outputs": [],
   "source": []
  },
  {
   "cell_type": "code",
   "execution_count": null,
   "id": "14855e13-fdb8-4b28-a093-b7741ac5f211",
   "metadata": {
    "scrolled": true
   },
   "outputs": [],
   "source": []
  },
  {
   "cell_type": "code",
   "execution_count": 25,
   "id": "1bf40784-0746-4cbb-9298-a94dcb035f29",
   "metadata": {
    "scrolled": true
   },
   "outputs": [],
   "source": [
    "def find_similar(cdtnId):\n",
    "    k = 20\n",
    "\n",
    "    doc_passages = passages_set[passages_set[\"cdtnId\"] == search_id]\n",
    "    indices = doc_passages.index\n",
    "    tensor_docs[indices]\n",
    "    retrieval_scores = (tensor_docs[indices] @ tensor_docs.T) * 100\n",
    "    retrieval_scores.size()\n",
    "    topk = torch.topk(retrieval_scores, k)\n",
    "    \n",
    "    matches = topk.values.reshape(-1,).tolist()\n",
    "    matching_indices = topk.indices.reshape(-1,).tolist()\n",
    "\n",
    "    rows = passages_set.loc[matching_indices].copy()\n",
    "    rows[\"similarity\"] = matches\n",
    "    results = rows[rows[\"cdtnId\"] != cdtnId]\n",
    "\n",
    "    return results\n",
    "\n",
    "\n"
   ]
  },
  {
   "cell_type": "code",
   "execution_count": 286,
   "id": "253a63c6-6fd6-4183-b68d-c152e47eba70",
   "metadata": {},
   "outputs": [
    {
     "data": {
      "text/plain": [
       "[3568, 3569, 3570, 3571]"
      ]
     },
     "execution_count": 286,
     "metadata": {},
     "output_type": "execute_result"
    }
   ],
   "source": [
    "indices = passages_set[passages_set[\"cdtnId\"] == doc1].index\n",
    "indices\n",
    "indices.to_list()"
   ]
  },
  {
   "cell_type": "code",
   "execution_count": 30,
   "id": "2e0cc427-9ca8-41e4-91c3-368562e1371f",
   "metadata": {},
   "outputs": [
    {
     "name": "stdout",
     "output_type": "stream",
     "text": [
      "['fiches_service_public', 'conge-ou-temps-partiel-pour-creation-ou-reprise-dentreprise']\n",
      "9\n"
     ]
    },
    {
     "data": {
      "text/plain": [
       "cdtnId      slug                                                                                                                    source                  \n",
       "bb9cc8c27e  conge-sabbatique-du-salarie-dans-le-secteur-prive                                                                       fiches_service_public       382.955113\n",
       "e4e05bc3be  le-conge-ou-temps-partiel-pour-creation-ou-reprise-dune-jeune-entreprise-innovante#Le-depart-en-conge-quelle-procedure  fiches_ministere_travail    290.704857\n",
       "f3b51b5190  le-conge-ou-temps-partiel-pour-creation-ou-reprise-dune-jeune-entreprise-innovante#Le-depart-en-conge-quelle-procedure  fiches_ministere_travail    271.324533\n",
       "            le-conge-ou-temps-partiel-pour-creation-ou-reprise-dune-jeune-entreprise-innovante#Quels-sont-les-avantages             fiches_ministere_travail    204.613303\n",
       "e4e05bc3be  le-conge-ou-temps-partiel-pour-creation-ou-reprise-dune-jeune-entreprise-innovante#Quels-sont-les-avantages             fiches_ministere_travail    194.869812\n",
       "bb3fd52cff  comment-prendre-un-conge-de-solidarite-internationale                                                                   fiches_service_public       144.460693\n",
       "24f2542573  conge-de-reclassement                                                                                                   fiches_service_public       125.112910\n",
       "daf560f481  indemnite-compensatrice-de-conges-payes                                                                                 fiches_service_public       105.910223\n",
       "11598b0a97  le-preavis-de-demission-doit-il-etre-execute-en-totalite-y-compris-si-le-salarie-a-retrouve-un-emploi                   contributions               105.883090\n",
       "cac94411a3  quels-sont-les-droits-dun-salarie-elu-local-qui-continue-de-travailler                                                  fiches_service_public       105.486133\n",
       "Name: similarity, dtype: float64"
      ]
     },
     "execution_count": 30,
     "metadata": {},
     "output_type": "execute_result"
    }
   ],
   "source": [
    "\n",
    "search_id = '4c949978ea'\n",
    "\n",
    "\n",
    "print(passages_set[passages_set[\"cdtnId\"] == search_id].iloc[0][[\"source\", \"slug\"]].to_list())\n",
    "print(passages_set[passages_set[\"cdtnId\"] == search_id].shape[0])\n",
    "#print(passages_set[passages_set[\"cdtnId\"] == search_id][\"text\"].to_list())\n",
    "\n",
    "#print(find_similar(search_id)[[\"index\",\"source\",\"cdtnId\",\"slug\",\"similarity\"]].to_string())\n",
    "search_id\n",
    "\n",
    "\n",
    "res = find_similar(search_id)\n",
    "gb = res.groupby([\"cdtnId\", \"slug\", \"source\"])\n",
    "\n",
    "#print( gb[\"similarity\"].max())\n",
    "\n",
    "scores = gb[\"similarity\"].max() * (1+gb[\"similarity\"].count() / 10)\n",
    "scores.sort_values(ascending=False)[:10]\n",
    "\n",
    "#grouped.mean([\"similarity\"]).sort_values(by=[\"similarity\"], ascending=False)[:20]\n",
    "#grouped.size()\n",
    "\n",
    "# counts = gb.size().to_frame(name='counts')\n",
    "# (counts\n",
    "#     .join(gb.agg({'col3': 'mean'}).rename(columns={'col3': 'col3_mean'}))\n",
    "#     .join(gb.agg({'col4': 'median'}).rename(columns={'col4': 'col4_median'}))\n",
    "#     .join(gb.agg({'col4': 'min'}).rename(columns={'col4': 'col4_min'}))\n",
    "#     .reset_index())\n",
    "   \n",
    "\n",
    "\n",
    "\n",
    "#.sort_values(by=[\"similarity\"], ascending=False)[:20]"
   ]
  },
  {
   "cell_type": "code",
   "execution_count": null,
   "id": "c10b412f-2b3f-4796-af69-9169978d2fb8",
   "metadata": {},
   "outputs": [],
   "source": []
  },
  {
   "cell_type": "code",
   "execution_count": 241,
   "id": "20bc60c6-df90-44ec-ac64-e211c6eb94dc",
   "metadata": {},
   "outputs": [],
   "source": [
    "def lookup(slug):\n",
    "    slug_search = passages_set[passages_set[\"slug\"] == slug]\n",
    "    dd = slug_search[\"cdtnId\"].drop_duplicates()\n",
    "    n = dd.shape[0]\n",
    "    if n == 1 :\n",
    "        return dd.iloc[0]\n",
    "    elif n == 0 :\n",
    "        raise Exception(\"not found\")\n",
    "    else :\n",
    "        raise Exception(\"ambiguous slug search\")"
   ]
  },
  {
   "cell_type": "code",
   "execution_count": 254,
   "id": "2a527f63-f1d2-4af3-871f-7a10bfdd516d",
   "metadata": {},
   "outputs": [
    {
     "data": {
      "text/plain": [
       "'c5358a2fe7'"
      ]
     },
     "execution_count": 254,
     "metadata": {},
     "output_type": "execute_result"
    }
   ],
   "source": [
    "lookup(\"quest-ce-quune-clause-de-non-concurrence\")"
   ]
  },
  {
   "cell_type": "code",
   "execution_count": null,
   "id": "460bafe6-6a5c-4093-9ad3-0d92a5ad9c04",
   "metadata": {},
   "outputs": [],
   "source": []
  },
  {
   "cell_type": "code",
   "execution_count": 78,
   "id": "be347850-5bba-4f76-8d07-76ecae24972d",
   "metadata": {},
   "outputs": [
    {
     "data": {
      "text/html": [
       "<div>\n",
       "<style scoped>\n",
       "    .dataframe tbody tr th:only-of-type {\n",
       "        vertical-align: middle;\n",
       "    }\n",
       "\n",
       "    .dataframe tbody tr th {\n",
       "        vertical-align: top;\n",
       "    }\n",
       "\n",
       "    .dataframe thead th {\n",
       "        text-align: right;\n",
       "    }\n",
       "</style>\n",
       "<table border=\"1\" class=\"dataframe\">\n",
       "  <thead>\n",
       "    <tr style=\"text-align: right;\">\n",
       "      <th></th>\n",
       "      <th>index</th>\n",
       "      <th>source</th>\n",
       "      <th>cdtnId</th>\n",
       "      <th>title</th>\n",
       "      <th>slug</th>\n",
       "      <th>answers.generic.text</th>\n",
       "      <th>tokens</th>\n",
       "      <th>text</th>\n",
       "      <th>cdtnId-fiches</th>\n",
       "    </tr>\n",
       "  </thead>\n",
       "  <tbody>\n",
       "    <tr>\n",
       "      <th>4274</th>\n",
       "      <td>4274</td>\n",
       "      <td>fiches_service_public</td>\n",
       "      <td>c6c206dc8b</td>\n",
       "      <td>Le contrat de travail est-il obligatoirement é...</td>\n",
       "      <td>le-contrat-de-travail-est-il-obligatoirement-e...</td>\n",
       "      <td>-</td>\n",
       "      <td>249</td>\n",
       "      <td>les contrats de travail suivants doivent oblig...</td>\n",
       "      <td>c6c206dc8b</td>\n",
       "    </tr>\n",
       "    <tr>\n",
       "      <th>4275</th>\n",
       "      <td>4275</td>\n",
       "      <td>fiches_service_public</td>\n",
       "      <td>c6c206dc8b</td>\n",
       "      <td>Le contrat de travail est-il obligatoirement é...</td>\n",
       "      <td>le-contrat-de-travail-est-il-obligatoirement-e...</td>\n",
       "      <td>-</td>\n",
       "      <td>249</td>\n",
       "      <td>le salarié est présumé être en cdi à temps ple...</td>\n",
       "      <td>c6c206dc8b</td>\n",
       "    </tr>\n",
       "  </tbody>\n",
       "</table>\n",
       "</div>"
      ],
      "text/plain": [
       "      index                 source      cdtnId  \\\n",
       "4274   4274  fiches_service_public  c6c206dc8b   \n",
       "4275   4275  fiches_service_public  c6c206dc8b   \n",
       "\n",
       "                                                  title  \\\n",
       "4274  Le contrat de travail est-il obligatoirement é...   \n",
       "4275  Le contrat de travail est-il obligatoirement é...   \n",
       "\n",
       "                                                   slug answers.generic.text  \\\n",
       "4274  le-contrat-de-travail-est-il-obligatoirement-e...                    -   \n",
       "4275  le-contrat-de-travail-est-il-obligatoirement-e...                    -   \n",
       "\n",
       "      tokens                                               text cdtnId-fiches  \n",
       "4274     249  les contrats de travail suivants doivent oblig...    c6c206dc8b  \n",
       "4275     249  le salarié est présumé être en cdi à temps ple...    c6c206dc8b  "
      ]
     },
     "execution_count": 78,
     "metadata": {},
     "output_type": "execute_result"
    }
   ],
   "source": [
    "passages_set[passages_set[\"cdtnId\"] == \"c6c206dc8b\"]"
   ]
  },
  {
   "cell_type": "code",
   "execution_count": null,
   "id": "c6dbaaae-3fa3-47d0-a977-a0ef7f7b6492",
   "metadata": {},
   "outputs": [],
   "source": []
  },
  {
   "cell_type": "code",
   "execution_count": null,
   "id": "203afdd5-b903-46c0-8e4b-078b806944b5",
   "metadata": {},
   "outputs": [],
   "source": []
  }
 ],
 "metadata": {
  "kernelspec": {
   "display_name": "Python 3 (ipykernel)",
   "language": "python",
   "name": "python3"
  },
  "language_info": {
   "codemirror_mode": {
    "name": "ipython",
    "version": 3
   },
   "file_extension": ".py",
   "mimetype": "text/x-python",
   "name": "python",
   "nbconvert_exporter": "python",
   "pygments_lexer": "ipython3",
   "version": "3.10.12"
  }
 },
 "nbformat": 4,
 "nbformat_minor": 5
}
